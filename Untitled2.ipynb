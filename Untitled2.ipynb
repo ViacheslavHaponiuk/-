{
 "cells": [
  {
   "cell_type": "code",
   "execution_count": 1,
   "id": "55a63b6b",
   "metadata": {},
   "outputs": [
    {
     "name": "stdout",
     "output_type": "stream",
     "text": [
      "[1, 2]\n",
      "[1, 231]\n"
     ]
    }
   ],
   "source": [
    "def filter_list(lst):\n",
    "    return [item for item in lst if isinstance(item, int)]\n",
    "print(filter_list([1, 2, 'a', 'b']))\n",
    "print(filter_list([1, 'wda12', 'a', 231, 'b']))"
   ]
  },
  {
   "cell_type": "code",
   "execution_count": 9,
   "id": "2bd9be9f",
   "metadata": {},
   "outputs": [
    {
     "name": "stdout",
     "output_type": "stream",
     "text": [
      "t\n",
      "T\n",
      "None\n",
      "None\n"
     ]
    }
   ],
   "source": [
    "def first_non_repeating_letter(s):\n",
    "    s_lower = s.lower()\n",
    "    for char in s:\n",
    "        if s_lower.count(char.lower()) == 1:\n",
    "            return char\n",
    "\n",
    "    return None\n",
    "\n",
    "print(first_non_repeating_letter('stress'))\n",
    "print(first_non_repeating_letter('sTreSS'))\n",
    "print(first_non_repeating_letter(''))\n",
    "print(first_non_repeating_letter('aabbcc'))"
   ]
  },
  {
   "cell_type": "code",
   "execution_count": 12,
   "id": "1fa6f6ee",
   "metadata": {},
   "outputs": [
    {
     "name": "stdout",
     "output_type": "stream",
     "text": [
      "7\n",
      "6\n",
      "6\n",
      "1\n"
     ]
    }
   ],
   "source": [
    "def digital_root(n):\n",
    "    if n < 10:\n",
    "        return n\n",
    "    \n",
    "    n_str = str(n)\n",
    "    digit_sum = sum(int(digit) for digit in n_str)\n",
    "    return digital_root(digit_sum)\n",
    "\n",
    "\n",
    "print(digital_root(16))  \n",
    "print(digital_root(942)) \n",
    "print(digital_root(132189)) \n",
    "print(digital_root(493193818))"
   ]
  },
  {
   "cell_type": "code",
   "execution_count": 15,
   "id": "cdf2d779",
   "metadata": {},
   "outputs": [
    {
     "name": "stdout",
     "output_type": "stream",
     "text": [
      "4\n"
     ]
    }
   ],
   "source": [
    "def count_pairs_with_sum(arr, target):\n",
    "    num_count = {}  \n",
    "    pair_count = 0 \n",
    "    \n",
    "  \n",
    "    for num in arr:\n",
    "        num_count[num] = num_count.get(num, 0) + 1\n",
    "        \n",
    "    for num in arr:\n",
    "        complement = target - num\n",
    "        if complement in num_count:\n",
    "            pair_count += num_count[complement]\n",
    "     \n",
    "        if complement == num:\n",
    "            pair_count -= 1\n",
    "\n",
    "    return pair_count // 2\n",
    "\n",
    "\n",
    "arr = [1, 3, 6, 2, 2, 0, 4, 5]\n",
    "target = 5\n",
    "print(count_pairs_with_sum(arr, target)) "
   ]
  },
  {
   "cell_type": "code",
   "execution_count": 16,
   "id": "42d3ec60",
   "metadata": {},
   "outputs": [
    {
     "name": "stdout",
     "output_type": "stream",
     "text": [
      "(CORWILL, ALFRED)(CORWILL, FIRED)(CORWILL, RAPHAEL)(CORWILL, WILFRED)(TORNBULL, BARNEY)(TORNBULL, BETTY)(TORNBULL, BJON)\n"
     ]
    }
   ],
   "source": [
    "def meeting(s):\n",
    "\n",
    "    guests = [name.split(':') for name in s.upper().split(';')]\n",
    "    guests.sort(key=lambda x: (x[1], x[0]))\n",
    "    result = ''.join(['({0}, {1})'.format(guest[1], guest[0]) for guest in guests])\n",
    "    \n",
    "    return result\n",
    "\n",
    "s = \"Fired:Corwill;Wilfred:Corwill;Barney:TornBull;Betty:Tornbull;Bjon:Tornbull;Raphael:Corwill;Alfred:Corwill\"\n",
    "print(meeting(s))"
   ]
  },
  {
   "cell_type": "code",
   "execution_count": 17,
   "id": "3cc8d908",
   "metadata": {},
   "outputs": [
    {
     "name": "stdout",
     "output_type": "stream",
     "text": [
      "21\n",
      "531\n",
      "2071\n",
      "-1\n",
      "-1\n",
      "-1\n"
     ]
    }
   ],
   "source": [
    "def nextBigger(num):\n",
    "   \n",
    "    digits = [int(digit) for digit in str(num)]\n",
    "    \n",
    "    i = len(digits) - 2\n",
    "    while i >= 0 and digits[i] >= digits[i + 1]:\n",
    "        i -= 1\n",
    "    \n",
    "    if i == -1:\n",
    "        return -1 \n",
    " \n",
    "    j = len(digits) - 1\n",
    "    while digits[j] <= digits[i]:\n",
    "        j -= 1\n",
    "        \n",
    "    digits[i], digits[j] = digits[j], digits[i]\n",
    "    digits[i + 1:] = sorted(digits[i + 1:])\n",
    "    \n",
    "    return int(''.join(map(str, digits)))\n",
    "\n",
    "\n",
    "print(nextBigger(12))    \n",
    "print(nextBigger(513))   \n",
    "print(nextBigger(2017))  \n",
    "print(nextBigger(9))     \n",
    "print(nextBigger(111))   \n",
    "print(nextBigger(531))"
   ]
  },
  {
   "cell_type": "code",
   "execution_count": 18,
   "id": "d99e9704",
   "metadata": {},
   "outputs": [
    {
     "name": "stdout",
     "output_type": "stream",
     "text": [
      "128.32.10.1\n",
      "0.0.0.32\n",
      "0.0.0.0\n"
     ]
    }
   ],
   "source": [
    "def int_to_ip(num):\n",
    "    \n",
    "    binary_str = bin(num)[2:].zfill(32)\n",
    "    octets = [binary_str[i:i+8] for i in range(0, 32, 8)]\n",
    "    ip_address = '.'.join(str(int(octet, 2)) for octet in octets)\n",
    "    \n",
    "    return ip_address\n",
    "\n",
    "print(int_to_ip(2149583361)) \n",
    "print(int_to_ip(32))      \n",
    "print(int_to_ip(0)) "
   ]
  },
  {
   "cell_type": "code",
   "execution_count": null,
   "id": "61cac65e",
   "metadata": {},
   "outputs": [],
   "source": []
  }
 ],
 "metadata": {
  "kernelspec": {
   "display_name": "Python 3 (ipykernel)",
   "language": "python",
   "name": "python3"
  },
  "language_info": {
   "codemirror_mode": {
    "name": "ipython",
    "version": 3
   },
   "file_extension": ".py",
   "mimetype": "text/x-python",
   "name": "python",
   "nbconvert_exporter": "python",
   "pygments_lexer": "ipython3",
   "version": "3.11.4"
  }
 },
 "nbformat": 4,
 "nbformat_minor": 5
}
